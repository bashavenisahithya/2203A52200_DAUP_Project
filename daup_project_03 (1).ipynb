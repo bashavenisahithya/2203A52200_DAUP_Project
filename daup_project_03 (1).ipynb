{
  "nbformat": 4,
  "nbformat_minor": 0,
  "metadata": {
    "colab": {
      "provenance": []
    },
    "kernelspec": {
      "name": "python3",
      "display_name": "Python 3"
    },
    "language_info": {
      "name": "python"
    }
  },
  "cells": [
    {
      "cell_type": "code",
      "source": [
        "import pandas as pd\n",
        "import numpy as np\n",
        "from sklearn.model_selection import train_test_split\n",
        "from sklearn.preprocessing import LabelEncoder\n",
        "from tensorflow.keras.models import Sequential\n",
        "from tensorflow.keras.layers import LSTM, Dense, Dropout\n",
        "from tensorflow.keras.utils import to_categorical\n"
      ],
      "metadata": {
        "id": "LryopopZDh_6"
      },
      "execution_count": null,
      "outputs": []
    },
    {
      "source": [
        "from google.colab import drive\n",
        "drive.mount('/content/drive')"
      ],
      "cell_type": "code",
      "metadata": {
        "colab": {
          "base_uri": "https://localhost:8080/"
        },
        "id": "odY8YqnnEbel",
        "outputId": "fc9ce2cc-881a-4a6f-bbff-43a33f44f225"
      },
      "execution_count": null,
      "outputs": [
        {
          "output_type": "stream",
          "name": "stdout",
          "text": [
            "Drive already mounted at /content/drive; to attempt to forcibly remount, call drive.mount(\"/content/drive\", force_remount=True).\n"
          ]
        }
      ]
    },
    {
      "source": [
        "import os\n",
        "os.listdir('/content/drive/MyDrive/archive (16)')"
      ],
      "cell_type": "code",
      "metadata": {
        "colab": {
          "base_uri": "https://localhost:8080/"
        },
        "id": "vnKvTx1lEkVO",
        "outputId": "ec87e0fc-ea27-41b5-94b6-94938eec9d57"
      },
      "execution_count": null,
      "outputs": [
        {
          "output_type": "execute_result",
          "data": {
            "text/plain": [
              "['cleaned_age.csv', 'cleaned_emotion.csv', 'cleaned_gender.csv']"
            ]
          },
          "metadata": {},
          "execution_count": 5
        }
      ]
    },
    {
      "source": [
        "from google.colab import drive\n",
        "drive.flush_and_unmount()\n",
        "print('Drive unmounted.')\n",
        "drive.mount('/content/drive')\n",
        "print('Drive remounted.')"
      ],
      "cell_type": "code",
      "metadata": {
        "colab": {
          "base_uri": "https://localhost:8080/"
        },
        "id": "0nZAx9QQFOYp",
        "outputId": "25427d50-0bb4-43cb-c7a2-1aa1f07fc02b"
      },
      "execution_count": null,
      "outputs": [
        {
          "output_type": "stream",
          "name": "stdout",
          "text": [
            "Drive unmounted.\n",
            "Mounted at /content/drive\n",
            "Drive remounted.\n"
          ]
        }
      ]
    },
    {
      "source": [
        "import pandas as pd\n",
        "df = pd.read_csv('/content/drive/MyDrive/archive (16)/cleaned_gender.csv')"
      ],
      "cell_type": "code",
      "metadata": {
        "id": "OvSf83qxEm50"
      },
      "execution_count": null,
      "outputs": []
    },
    {
      "cell_type": "code",
      "source": [
        "# Separate features and labels\n",
        "X = df.drop('label', axis=1).values\n",
        "y = df['label'].values"
      ],
      "metadata": {
        "id": "ZtP-Q9iAF_fw"
      },
      "execution_count": null,
      "outputs": []
    },
    {
      "source": [
        "# Reshape input to 3D for LSTM [samples, time_steps, features]\n",
        "# The current shape of X is (4361, 21)\n",
        "# We need to find suitable time_steps and features such that time_steps * features = 21\n",
        "# For example, we can use time_steps = 7 and features = 3 (or time_steps = 3 and features = 7, etc.)\n",
        "# Adjust these values based on the structure of your input data\n",
        "\n",
        "# Correcting features to match the expected column size\n",
        "time_steps = 7\n",
        "features = 3\n",
        "\n",
        "X_reshaped = X.reshape(X.shape[0], time_steps, features)\n",
        "\n",
        "# Split into train and test sets\n",
        "X_train, X_test, y_train, y_test = train_test_split(X_reshaped, y_categorical, test_size=0.2, random_state=42)"
      ],
      "cell_type": "code",
      "metadata": {
        "id": "J-mgjgCLJbcC"
      },
      "execution_count": null,
      "outputs": []
    },
    {
      "cell_type": "code",
      "source": [],
      "metadata": {
        "id": "roB4e9LmJYr7"
      },
      "execution_count": null,
      "outputs": []
    },
    {
      "cell_type": "code",
      "source": [
        "# Build LSTM model\n",
        "model = Sequential()\n",
        "model.add(LSTM(128, return_sequences=True, input_shape=(X_train.shape[1], X_train.shape[2])))\n",
        "model.add(Dropout(0.3))\n",
        "model.add(LSTM(64))\n",
        "model.add(Dropout(0.3))\n",
        "model.add(Dense(32, activation='relu'))\n",
        "model.add(Dense(y_categorical.shape[1], activation='softmax'))\n",
        "model.summary()\n"
      ],
      "metadata": {
        "colab": {
          "base_uri": "https://localhost:8080/",
          "height": 377
        },
        "id": "pHDBjtsFGlmT",
        "outputId": "43ea1afe-e9a9-47ab-eb42-2cdaf5f6f81f"
      },
      "execution_count": null,
      "outputs": [
        {
          "output_type": "stream",
          "name": "stderr",
          "text": [
            "/usr/local/lib/python3.11/dist-packages/keras/src/layers/rnn/rnn.py:200: UserWarning: Do not pass an `input_shape`/`input_dim` argument to a layer. When using Sequential models, prefer using an `Input(shape)` object as the first layer in the model instead.\n",
            "  super().__init__(**kwargs)\n"
          ]
        },
        {
          "output_type": "display_data",
          "data": {
            "text/plain": [
              "\u001b[1mModel: \"sequential_2\"\u001b[0m\n"
            ],
            "text/html": [
              "<pre style=\"white-space:pre;overflow-x:auto;line-height:normal;font-family:Menlo,'DejaVu Sans Mono',consolas,'Courier New',monospace\"><span style=\"font-weight: bold\">Model: \"sequential_2\"</span>\n",
              "</pre>\n"
            ]
          },
          "metadata": {}
        },
        {
          "output_type": "display_data",
          "data": {
            "text/plain": [
              "┏━━━━━━━━━━━━━━━━━━━━━━━━━━━━━━━━━┳━━━━━━━━━━━━━━━━━━━━━━━━┳━━━━━━━━━━━━━━━┓\n",
              "┃\u001b[1m \u001b[0m\u001b[1mLayer (type)                   \u001b[0m\u001b[1m \u001b[0m┃\u001b[1m \u001b[0m\u001b[1mOutput Shape          \u001b[0m\u001b[1m \u001b[0m┃\u001b[1m \u001b[0m\u001b[1m      Param #\u001b[0m\u001b[1m \u001b[0m┃\n",
              "┡━━━━━━━━━━━━━━━━━━━━━━━━━━━━━━━━━╇━━━━━━━━━━━━━━━━━━━━━━━━╇━━━━━━━━━━━━━━━┩\n",
              "│ lstm_4 (\u001b[38;5;33mLSTM\u001b[0m)                   │ (\u001b[38;5;45mNone\u001b[0m, \u001b[38;5;34m7\u001b[0m, \u001b[38;5;34m128\u001b[0m)         │        \u001b[38;5;34m67,584\u001b[0m │\n",
              "├─────────────────────────────────┼────────────────────────┼───────────────┤\n",
              "│ dropout_4 (\u001b[38;5;33mDropout\u001b[0m)             │ (\u001b[38;5;45mNone\u001b[0m, \u001b[38;5;34m7\u001b[0m, \u001b[38;5;34m128\u001b[0m)         │             \u001b[38;5;34m0\u001b[0m │\n",
              "├─────────────────────────────────┼────────────────────────┼───────────────┤\n",
              "│ lstm_5 (\u001b[38;5;33mLSTM\u001b[0m)                   │ (\u001b[38;5;45mNone\u001b[0m, \u001b[38;5;34m64\u001b[0m)             │        \u001b[38;5;34m49,408\u001b[0m │\n",
              "├─────────────────────────────────┼────────────────────────┼───────────────┤\n",
              "│ dropout_5 (\u001b[38;5;33mDropout\u001b[0m)             │ (\u001b[38;5;45mNone\u001b[0m, \u001b[38;5;34m64\u001b[0m)             │             \u001b[38;5;34m0\u001b[0m │\n",
              "├─────────────────────────────────┼────────────────────────┼───────────────┤\n",
              "│ dense_4 (\u001b[38;5;33mDense\u001b[0m)                 │ (\u001b[38;5;45mNone\u001b[0m, \u001b[38;5;34m32\u001b[0m)             │         \u001b[38;5;34m2,080\u001b[0m │\n",
              "├─────────────────────────────────┼────────────────────────┼───────────────┤\n",
              "│ dense_5 (\u001b[38;5;33mDense\u001b[0m)                 │ (\u001b[38;5;45mNone\u001b[0m, \u001b[38;5;34m2\u001b[0m)              │            \u001b[38;5;34m66\u001b[0m │\n",
              "└─────────────────────────────────┴────────────────────────┴───────────────┘\n"
            ],
            "text/html": [
              "<pre style=\"white-space:pre;overflow-x:auto;line-height:normal;font-family:Menlo,'DejaVu Sans Mono',consolas,'Courier New',monospace\">┏━━━━━━━━━━━━━━━━━━━━━━━━━━━━━━━━━┳━━━━━━━━━━━━━━━━━━━━━━━━┳━━━━━━━━━━━━━━━┓\n",
              "┃<span style=\"font-weight: bold\"> Layer (type)                    </span>┃<span style=\"font-weight: bold\"> Output Shape           </span>┃<span style=\"font-weight: bold\">       Param # </span>┃\n",
              "┡━━━━━━━━━━━━━━━━━━━━━━━━━━━━━━━━━╇━━━━━━━━━━━━━━━━━━━━━━━━╇━━━━━━━━━━━━━━━┩\n",
              "│ lstm_4 (<span style=\"color: #0087ff; text-decoration-color: #0087ff\">LSTM</span>)                   │ (<span style=\"color: #00d7ff; text-decoration-color: #00d7ff\">None</span>, <span style=\"color: #00af00; text-decoration-color: #00af00\">7</span>, <span style=\"color: #00af00; text-decoration-color: #00af00\">128</span>)         │        <span style=\"color: #00af00; text-decoration-color: #00af00\">67,584</span> │\n",
              "├─────────────────────────────────┼────────────────────────┼───────────────┤\n",
              "│ dropout_4 (<span style=\"color: #0087ff; text-decoration-color: #0087ff\">Dropout</span>)             │ (<span style=\"color: #00d7ff; text-decoration-color: #00d7ff\">None</span>, <span style=\"color: #00af00; text-decoration-color: #00af00\">7</span>, <span style=\"color: #00af00; text-decoration-color: #00af00\">128</span>)         │             <span style=\"color: #00af00; text-decoration-color: #00af00\">0</span> │\n",
              "├─────────────────────────────────┼────────────────────────┼───────────────┤\n",
              "│ lstm_5 (<span style=\"color: #0087ff; text-decoration-color: #0087ff\">LSTM</span>)                   │ (<span style=\"color: #00d7ff; text-decoration-color: #00d7ff\">None</span>, <span style=\"color: #00af00; text-decoration-color: #00af00\">64</span>)             │        <span style=\"color: #00af00; text-decoration-color: #00af00\">49,408</span> │\n",
              "├─────────────────────────────────┼────────────────────────┼───────────────┤\n",
              "│ dropout_5 (<span style=\"color: #0087ff; text-decoration-color: #0087ff\">Dropout</span>)             │ (<span style=\"color: #00d7ff; text-decoration-color: #00d7ff\">None</span>, <span style=\"color: #00af00; text-decoration-color: #00af00\">64</span>)             │             <span style=\"color: #00af00; text-decoration-color: #00af00\">0</span> │\n",
              "├─────────────────────────────────┼────────────────────────┼───────────────┤\n",
              "│ dense_4 (<span style=\"color: #0087ff; text-decoration-color: #0087ff\">Dense</span>)                 │ (<span style=\"color: #00d7ff; text-decoration-color: #00d7ff\">None</span>, <span style=\"color: #00af00; text-decoration-color: #00af00\">32</span>)             │         <span style=\"color: #00af00; text-decoration-color: #00af00\">2,080</span> │\n",
              "├─────────────────────────────────┼────────────────────────┼───────────────┤\n",
              "│ dense_5 (<span style=\"color: #0087ff; text-decoration-color: #0087ff\">Dense</span>)                 │ (<span style=\"color: #00d7ff; text-decoration-color: #00d7ff\">None</span>, <span style=\"color: #00af00; text-decoration-color: #00af00\">2</span>)              │            <span style=\"color: #00af00; text-decoration-color: #00af00\">66</span> │\n",
              "└─────────────────────────────────┴────────────────────────┴───────────────┘\n",
              "</pre>\n"
            ]
          },
          "metadata": {}
        },
        {
          "output_type": "display_data",
          "data": {
            "text/plain": [
              "\u001b[1m Total params: \u001b[0m\u001b[38;5;34m119,138\u001b[0m (465.38 KB)\n"
            ],
            "text/html": [
              "<pre style=\"white-space:pre;overflow-x:auto;line-height:normal;font-family:Menlo,'DejaVu Sans Mono',consolas,'Courier New',monospace\"><span style=\"font-weight: bold\"> Total params: </span><span style=\"color: #00af00; text-decoration-color: #00af00\">119,138</span> (465.38 KB)\n",
              "</pre>\n"
            ]
          },
          "metadata": {}
        },
        {
          "output_type": "display_data",
          "data": {
            "text/plain": [
              "\u001b[1m Trainable params: \u001b[0m\u001b[38;5;34m119,138\u001b[0m (465.38 KB)\n"
            ],
            "text/html": [
              "<pre style=\"white-space:pre;overflow-x:auto;line-height:normal;font-family:Menlo,'DejaVu Sans Mono',consolas,'Courier New',monospace\"><span style=\"font-weight: bold\"> Trainable params: </span><span style=\"color: #00af00; text-decoration-color: #00af00\">119,138</span> (465.38 KB)\n",
              "</pre>\n"
            ]
          },
          "metadata": {}
        },
        {
          "output_type": "display_data",
          "data": {
            "text/plain": [
              "\u001b[1m Non-trainable params: \u001b[0m\u001b[38;5;34m0\u001b[0m (0.00 B)\n"
            ],
            "text/html": [
              "<pre style=\"white-space:pre;overflow-x:auto;line-height:normal;font-family:Menlo,'DejaVu Sans Mono',consolas,'Courier New',monospace\"><span style=\"font-weight: bold\"> Non-trainable params: </span><span style=\"color: #00af00; text-decoration-color: #00af00\">0</span> (0.00 B)\n",
              "</pre>\n"
            ]
          },
          "metadata": {}
        }
      ]
    },
    {
      "cell_type": "code",
      "source": [
        "# Compile the model\n",
        "model.compile(loss='categorical_crossentropy', optimizer='adam', metrics=['accuracy'])\n",
        "\n",
        "# Train the model\n",
        "history = model.fit(X_train, y_train, epochs=30, batch_size=32, validation_data=(X_test, y_test))\n",
        "\n",
        "# Evaluate the model\n",
        "test_loss, test_acc = model.evaluate(X_test, y_test)\n",
        "print(f\"Test Accuracy: {test_acc:.2f}\")"
      ],
      "metadata": {
        "colab": {
          "base_uri": "https://localhost:8080/"
        },
        "id": "umIZiWUoGnqd",
        "outputId": "7ee227e7-9782-4751-9b0e-831b0a20b9be"
      },
      "execution_count": null,
      "outputs": [
        {
          "output_type": "stream",
          "name": "stdout",
          "text": [
            "Epoch 1/30\n",
            "\u001b[1m109/109\u001b[0m \u001b[32m━━━━━━━━━━━━━━━━━━━━\u001b[0m\u001b[37m\u001b[0m \u001b[1m8s\u001b[0m 26ms/step - accuracy: 0.7545 - loss: 0.5662 - val_accuracy: 0.7904 - val_loss: 0.5131\n",
            "Epoch 2/30\n",
            "\u001b[1m109/109\u001b[0m \u001b[32m━━━━━━━━━━━━━━━━━━━━\u001b[0m\u001b[37m\u001b[0m \u001b[1m4s\u001b[0m 20ms/step - accuracy: 0.7583 - loss: 0.5451 - val_accuracy: 0.7904 - val_loss: 0.5230\n",
            "Epoch 3/30\n",
            "\u001b[1m109/109\u001b[0m \u001b[32m━━━━━━━━━━━━━━━━━━━━\u001b[0m\u001b[37m\u001b[0m \u001b[1m3s\u001b[0m 26ms/step - accuracy: 0.7501 - loss: 0.5558 - val_accuracy: 0.7904 - val_loss: 0.5059\n",
            "Epoch 4/30\n",
            "\u001b[1m109/109\u001b[0m \u001b[32m━━━━━━━━━━━━━━━━━━━━\u001b[0m\u001b[37m\u001b[0m \u001b[1m4s\u001b[0m 20ms/step - accuracy: 0.7597 - loss: 0.5489 - val_accuracy: 0.7904 - val_loss: 0.5067\n",
            "Epoch 5/30\n",
            "\u001b[1m109/109\u001b[0m \u001b[32m━━━━━━━━━━━━━━━━━━━━\u001b[0m\u001b[37m\u001b[0m \u001b[1m2s\u001b[0m 21ms/step - accuracy: 0.7750 - loss: 0.5237 - val_accuracy: 0.7904 - val_loss: 0.5194\n",
            "Epoch 6/30\n",
            "\u001b[1m109/109\u001b[0m \u001b[32m━━━━━━━━━━━━━━━━━━━━\u001b[0m\u001b[37m\u001b[0m \u001b[1m2s\u001b[0m 20ms/step - accuracy: 0.7656 - loss: 0.5323 - val_accuracy: 0.7904 - val_loss: 0.5188\n",
            "Epoch 7/30\n",
            "\u001b[1m109/109\u001b[0m \u001b[32m━━━━━━━━━━━━━━━━━━━━\u001b[0m\u001b[37m\u001b[0m \u001b[1m3s\u001b[0m 21ms/step - accuracy: 0.7707 - loss: 0.5270 - val_accuracy: 0.7904 - val_loss: 0.5024\n",
            "Epoch 8/30\n",
            "\u001b[1m109/109\u001b[0m \u001b[32m━━━━━━━━━━━━━━━━━━━━\u001b[0m\u001b[37m\u001b[0m \u001b[1m4s\u001b[0m 37ms/step - accuracy: 0.7528 - loss: 0.5479 - val_accuracy: 0.7904 - val_loss: 0.5040\n",
            "Epoch 9/30\n",
            "\u001b[1m109/109\u001b[0m \u001b[32m━━━━━━━━━━━━━━━━━━━━\u001b[0m\u001b[37m\u001b[0m \u001b[1m4s\u001b[0m 22ms/step - accuracy: 0.7576 - loss: 0.5344 - val_accuracy: 0.7904 - val_loss: 0.4967\n",
            "Epoch 10/30\n",
            "\u001b[1m109/109\u001b[0m \u001b[32m━━━━━━━━━━━━━━━━━━━━\u001b[0m\u001b[37m\u001b[0m \u001b[1m2s\u001b[0m 21ms/step - accuracy: 0.7578 - loss: 0.5374 - val_accuracy: 0.7904 - val_loss: 0.4963\n",
            "Epoch 11/30\n",
            "\u001b[1m109/109\u001b[0m \u001b[32m━━━━━━━━━━━━━━━━━━━━\u001b[0m\u001b[37m\u001b[0m \u001b[1m3s\u001b[0m 22ms/step - accuracy: 0.7730 - loss: 0.5188 - val_accuracy: 0.7904 - val_loss: 0.4983\n",
            "Epoch 12/30\n",
            "\u001b[1m109/109\u001b[0m \u001b[32m━━━━━━━━━━━━━━━━━━━━\u001b[0m\u001b[37m\u001b[0m \u001b[1m4s\u001b[0m 34ms/step - accuracy: 0.7602 - loss: 0.5320 - val_accuracy: 0.7904 - val_loss: 0.5012\n",
            "Epoch 13/30\n",
            "\u001b[1m109/109\u001b[0m \u001b[32m━━━━━━━━━━━━━━━━━━━━\u001b[0m\u001b[37m\u001b[0m \u001b[1m4s\u001b[0m 33ms/step - accuracy: 0.7655 - loss: 0.5233 - val_accuracy: 0.7904 - val_loss: 0.5123\n",
            "Epoch 14/30\n",
            "\u001b[1m109/109\u001b[0m \u001b[32m━━━━━━━━━━━━━━━━━━━━\u001b[0m\u001b[37m\u001b[0m \u001b[1m2s\u001b[0m 21ms/step - accuracy: 0.7607 - loss: 0.5260 - val_accuracy: 0.7904 - val_loss: 0.4830\n",
            "Epoch 15/30\n",
            "\u001b[1m109/109\u001b[0m \u001b[32m━━━━━━━━━━━━━━━━━━━━\u001b[0m\u001b[37m\u001b[0m \u001b[1m3s\u001b[0m 23ms/step - accuracy: 0.7616 - loss: 0.5077 - val_accuracy: 0.7904 - val_loss: 0.4694\n",
            "Epoch 16/30\n",
            "\u001b[1m109/109\u001b[0m \u001b[32m━━━━━━━━━━━━━━━━━━━━\u001b[0m\u001b[37m\u001b[0m \u001b[1m2s\u001b[0m 20ms/step - accuracy: 0.7804 - loss: 0.4719 - val_accuracy: 0.8041 - val_loss: 0.3980\n",
            "Epoch 17/30\n",
            "\u001b[1m109/109\u001b[0m \u001b[32m━━━━━━━━━━━━━━━━━━━━\u001b[0m\u001b[37m\u001b[0m \u001b[1m3s\u001b[0m 24ms/step - accuracy: 0.8080 - loss: 0.4168 - val_accuracy: 0.8213 - val_loss: 0.3704\n",
            "Epoch 18/30\n",
            "\u001b[1m109/109\u001b[0m \u001b[32m━━━━━━━━━━━━━━━━━━━━\u001b[0m\u001b[37m\u001b[0m \u001b[1m4s\u001b[0m 34ms/step - accuracy: 0.8068 - loss: 0.4084 - val_accuracy: 0.8202 - val_loss: 0.3798\n",
            "Epoch 19/30\n",
            "\u001b[1m109/109\u001b[0m \u001b[32m━━━━━━━━━━━━━━━━━━━━\u001b[0m\u001b[37m\u001b[0m \u001b[1m2s\u001b[0m 20ms/step - accuracy: 0.8246 - loss: 0.4027 - val_accuracy: 0.8030 - val_loss: 0.3810\n",
            "Epoch 20/30\n",
            "\u001b[1m109/109\u001b[0m \u001b[32m━━━━━━━━━━━━━━━━━━━━\u001b[0m\u001b[37m\u001b[0m \u001b[1m3s\u001b[0m 20ms/step - accuracy: 0.8248 - loss: 0.4059 - val_accuracy: 0.8419 - val_loss: 0.3504\n",
            "Epoch 21/30\n",
            "\u001b[1m109/109\u001b[0m \u001b[32m━━━━━━━━━━━━━━━━━━━━\u001b[0m\u001b[37m\u001b[0m \u001b[1m2s\u001b[0m 22ms/step - accuracy: 0.8237 - loss: 0.3907 - val_accuracy: 0.8477 - val_loss: 0.3398\n",
            "Epoch 22/30\n",
            "\u001b[1m109/109\u001b[0m \u001b[32m━━━━━━━━━━━━━━━━━━━━\u001b[0m\u001b[37m\u001b[0m \u001b[1m3s\u001b[0m 22ms/step - accuracy: 0.8369 - loss: 0.3742 - val_accuracy: 0.8373 - val_loss: 0.3594\n",
            "Epoch 23/30\n",
            "\u001b[1m109/109\u001b[0m \u001b[32m━━━━━━━━━━━━━━━━━━━━\u001b[0m\u001b[37m\u001b[0m \u001b[1m4s\u001b[0m 34ms/step - accuracy: 0.8404 - loss: 0.3777 - val_accuracy: 0.8465 - val_loss: 0.3320\n",
            "Epoch 24/30\n",
            "\u001b[1m109/109\u001b[0m \u001b[32m━━━━━━━━━━━━━━━━━━━━\u001b[0m\u001b[37m\u001b[0m \u001b[1m2s\u001b[0m 22ms/step - accuracy: 0.8434 - loss: 0.3609 - val_accuracy: 0.8431 - val_loss: 0.3320\n",
            "Epoch 25/30\n",
            "\u001b[1m109/109\u001b[0m \u001b[32m━━━━━━━━━━━━━━━━━━━━\u001b[0m\u001b[37m\u001b[0m \u001b[1m2s\u001b[0m 20ms/step - accuracy: 0.8399 - loss: 0.3643 - val_accuracy: 0.8282 - val_loss: 0.3673\n",
            "Epoch 26/30\n",
            "\u001b[1m109/109\u001b[0m \u001b[32m━━━━━━━━━━━━━━━━━━━━\u001b[0m\u001b[37m\u001b[0m \u001b[1m3s\u001b[0m 26ms/step - accuracy: 0.8416 - loss: 0.3626 - val_accuracy: 0.8190 - val_loss: 0.3956\n",
            "Epoch 27/30\n",
            "\u001b[1m109/109\u001b[0m \u001b[32m━━━━━━━━━━━━━━━━━━━━\u001b[0m\u001b[37m\u001b[0m \u001b[1m3s\u001b[0m 28ms/step - accuracy: 0.8295 - loss: 0.3803 - val_accuracy: 0.8454 - val_loss: 0.3336\n",
            "Epoch 28/30\n",
            "\u001b[1m109/109\u001b[0m \u001b[32m━━━━━━━━━━━━━━━━━━━━\u001b[0m\u001b[37m\u001b[0m \u001b[1m4s\u001b[0m 34ms/step - accuracy: 0.8533 - loss: 0.3445 - val_accuracy: 0.8465 - val_loss: 0.3318\n",
            "Epoch 29/30\n",
            "\u001b[1m109/109\u001b[0m \u001b[32m━━━━━━━━━━━━━━━━━━━━\u001b[0m\u001b[37m\u001b[0m \u001b[1m3s\u001b[0m 27ms/step - accuracy: 0.8400 - loss: 0.3615 - val_accuracy: 0.8511 - val_loss: 0.3261\n",
            "Epoch 30/30\n",
            "\u001b[1m109/109\u001b[0m \u001b[32m━━━━━━━━━━━━━━━━━━━━\u001b[0m\u001b[37m\u001b[0m \u001b[1m5s\u001b[0m 29ms/step - accuracy: 0.8385 - loss: 0.3640 - val_accuracy: 0.8568 - val_loss: 0.3184\n",
            "\u001b[1m28/28\u001b[0m \u001b[32m━━━━━━━━━━━━━━━━━━━━\u001b[0m\u001b[37m\u001b[0m \u001b[1m0s\u001b[0m 8ms/step - accuracy: 0.8565 - loss: 0.3084\n",
            "Test Accuracy: 0.86\n"
          ]
        }
      ]
    },
    {
      "source": [
        "# Import necessary metrics functions\n",
        "from sklearn.metrics import accuracy_score, f1_score, precision_score, recall_score\n",
        "\n",
        "# Predict the classes for test data\n",
        "y_pred = model.predict(X_test)\n",
        "y_pred_classes = np.argmax(y_pred, axis=1)  # Get class with highest probability\n",
        "\n",
        "# Get true classes\n",
        "y_true = np.argmax(y_test, axis=1)\n",
        "\n",
        "# Calculate metrics\n",
        "accuracy = accuracy_score(y_true, y_pred_classes)\n",
        "f1 = f1_score(y_true, y_pred_classes, average='weighted')  # Weighted average for imbalanced classes\n",
        "precision = precision_score(y_true, y_pred_classes, average='weighted')\n",
        "recall = recall_score(y_true, y_pred_classes, average='weighted')\n",
        "\n",
        "print(f\"Accuracy: {accuracy * 100:.2f}%\")\n",
        "print(f\"F1-Score: {f1:.2f}\")\n",
        "print(f\"Precision: {precision:.2f}\")\n",
        "print(f\"Recall: {recall:.2f}\")"
      ],
      "cell_type": "code",
      "metadata": {
        "colab": {
          "base_uri": "https://localhost:8080/"
        },
        "id": "4mcRkosBIFkT",
        "outputId": "e4eb3b07-56b6-4dd5-858a-6cd6179bb4aa"
      },
      "execution_count": null,
      "outputs": [
        {
          "output_type": "stream",
          "name": "stdout",
          "text": [
            "\u001b[1m28/28\u001b[0m \u001b[32m━━━━━━━━━━━━━━━━━━━━\u001b[0m\u001b[37m\u001b[0m \u001b[1m1s\u001b[0m 21ms/step\n",
            "Accuracy: 85.68%\n",
            "F1-Score: 0.85\n",
            "Precision: 0.85\n",
            "Recall: 0.86\n"
          ]
        }
      ]
    },
    {
      "cell_type": "code",
      "source": [
        "from sklearn.metrics import confusion_matrix\n",
        "import seaborn as sns\n",
        "import matplotlib.pyplot as plt\n",
        "from sklearn.preprocessing import LabelEncoder\n",
        "\n",
        "# Assuming 'y' is the original list of emotion labels before encoding\n",
        "# If 'y' is not available, you'll need to load or recreate it.\n",
        "# Example: y = [...] # Load your original emotion labels here\n",
        "\n",
        "# Create and fit LabelEncoder\n",
        "encoder = LabelEncoder()\n",
        "encoder.fit(y)\n",
        "\n",
        "# Calculate confusion matrix\n",
        "conf_matrix = confusion_matrix(y_true, y_pred_classes)\n",
        "\n",
        "# Plot confusion matrix\n",
        "plt.figure(figsize=(10, 7))\n",
        "sns.heatmap(conf_matrix, annot=True, fmt=\"d\", cmap=\"Blues\",\n",
        "            xticklabels=encoder.classes_, yticklabels=encoder.classes_)\n",
        "plt.xlabel('Predicted')\n",
        "plt.ylabel('True')\n",
        "plt.title('Confusion Matrix')\n",
        "plt.show()"
      ],
      "metadata": {
        "colab": {
          "base_uri": "https://localhost:8080/",
          "height": 634
        },
        "id": "7FxqSD7FIK1j",
        "outputId": "9b5de1cc-1a06-4891-86f1-de9f887a9be4"
      },
      "execution_count": null,
      "outputs": [
        {
          "output_type": "display_data",
          "data": {
            "text/plain": [
              "<Figure size 1000x700 with 2 Axes>"
            ],
            "image/png": "[encoded data removed]"
          },
          "metadata": {}
        }
      ]
    },
    {
      "cell_type": "code",
      "source": [
        "import numpy as np\n",
        "import matplotlib.pyplot as plt\n",
        "from collections import Counter\n",
        "\n",
        "# Assuming y_train contains emotion labels (one-hot or encoded as numbers)\n",
        "labels = np.argmax(y_train, axis=1)  # Convert one-hot to integer labels\n",
        "\n",
        "# Count occurrences of each class\n",
        "class_counts = Counter(labels)\n",
        "\n",
        "# Plot the distribution\n",
        "plt.bar(class_counts.keys(), class_counts.values(), color='skyblue')\n",
        "plt.xlabel(\"Emotion Class\")\n",
        "plt.ylabel(\"Number of Samples\")\n",
        "plt.title(\"Class Distribution in Training Data\")\n",
        "plt.xticks(range(len(class_counts)))\n",
        "plt.show()\n",
        "\n",
        "# Print class-wise counts\n",
        "print(\"Class Distribution:\", class_counts)\n"
      ],
      "metadata": {
        "colab": {
          "base_uri": "https://localhost:8080/",
          "height": 490
        },
        "id": "-o8eLUS8ITHJ",
        "outputId": "715f6b45-1df1-45f5-d10e-33962318786b"
      },
      "execution_count": null,
      "outputs": [
        {
          "output_type": "display_data",
          "data": {
            "text/plain": [
              "<Figure size 640x480 with 1 Axes>"
            ],
            "image/png": "[encoded data removed]"
          },
          "metadata": {}
        },
        {
          "output_type": "stream",
          "name": "stdout",
          "text": [
            "Class Distribution: Counter({np.int64(1): 2653, np.int64(0): 835})\n"
          ]
        }
      ]
    },
    {
      "cell_type": "code",
      "source": [
        "import numpy as np\n",
        "from statsmodels.stats.proportion import proportions_ztest\n",
        "\n",
        "# 1. Define Baseline Accuracy:\n",
        "baseline_accuracy = 0.25  # Replace with your actual baseline accuracy\n",
        "\n",
        "# 3. Number of Samples:\n",
        "n_samples = len(y_true)\n",
        "\n",
        "# 4. Perform Z-test:\n",
        "count = int(accuracy * n_samples)  # Number of successful predictions\n",
        "nobs = n_samples  # Total number of samples\n",
        "stat, p_value = proportions_ztest(count, nobs, value=baseline_accuracy, alternative='larger')  # One-tailed test for improvement\n",
        "\n",
        "# 5. Print Results:\n",
        "print(f\"Z-statistic: {stat:.2f}\")\n",
        "print(f\"P-value: {p_value:.3f}\")\n",
        "\n",
        "# 6. Interpret Results:\n",
        "alpha = 0.05  # Significance level\n",
        "if p_value < alpha:\n",
        "    print(\"Reject null hypothesis: Model accuracy is significantly better than baseline.\")\n",
        "else:\n",
        "    print(\"Fail to reject null hypothesis: Model accuracy is not significantly better than baseline.\")"
      ],
      "metadata": {
        "colab": {
          "base_uri": "https://localhost:8080/"
        },
        "id": "hxY2UUw5IZ8h",
        "outputId": "87042aab-2f0a-4694-eabc-cf636b1d3d97"
      },
      "execution_count": null,
      "outputs": [
        {
          "output_type": "stream",
          "name": "stdout",
          "text": [
            "Z-statistic: 51.19\n",
            "P-value: 0.000\n",
            "Reject null hypothesis: Model accuracy is significantly better than baseline.\n"
          ]
        }
      ]
    },
    {
      "source": [
        "import numpy as np\n",
        "from scipy import stats\n",
        "\n",
        "# 1. Define Baseline Accuracy:\n",
        "baseline_accuracy = 0.25  # Replace with your actual baseline accuracy\n",
        "\n",
        "# 3. Number of Samples:\n",
        "n_samples = len(y_true)\n",
        "\n",
        "# 4. Calculate Standard Error:\n",
        "# This is an approximation for proportions\n",
        "standard_error = np.sqrt((accuracy * (1 - accuracy)) / n_samples)\n",
        "\n",
        "# 5. Perform T-test:\n",
        "t_statistic, p_value = stats.ttest_1samp(\n",
        "    [accuracy], baseline_accuracy  # Sample data and population mean\n",
        ")\n",
        "\n",
        "# 6. Print Results:\n",
        "print(f\"T-statistic: {t_statistic:.2f}\")\n",
        "print(f\"P-value: {p_value:.3f}\")\n",
        "\n",
        "# 7. Interpret Results:\n",
        "alpha = 0.05  # Significance level\n",
        "if p_value < alpha:\n",
        "    print(\"Reject null hypothesis: Model accuracy is significantly different from baseline.\")\n",
        "else:\n",
        "    print(\"Fail to reject null hypothesis: Model accuracy is not significantly different from baseline.\")\n",
        "    # Removed the invalid \"print sum value\" statement"
      ],
      "cell_type": "code",
      "metadata": {
        "colab": {
          "base_uri": "https://localhost:8080/"
        },
        "id": "FVpAqflEKO_r",
        "outputId": "121427e7-3a6b-476d-932a-59c009c1d696"
      },
      "execution_count": null,
      "outputs": [
        {
          "output_type": "stream",
          "name": "stdout",
          "text": [
            "T-statistic: nan\n",
            "P-value: nan\n",
            "Fail to reject null hypothesis: Model accuracy is not significantly different from baseline.\n"
          ]
        }
      ]
    },
    {
      "source": [
        "import numpy as np\n",
        "from scipy import stats\n",
        "\n",
        "# 1. Define Baseline Accuracy:\n",
        "baseline_accuracy = 0.25  # Replace with your actual baseline accuracy\n",
        "\n",
        "# 3. Number of Samples:\n",
        "n_samples = len(y_true)\n",
        "\n",
        "# 4. Calculate Standard Error:\n",
        "# This is an approximation for proportions\n",
        "standard_error = np.sqrt((accuracy * (1 - accuracy)) / n_samples)\n",
        "\n",
        "# 5. Perform T-test:\n",
        "# Ensure 'accuracy' is a single numeric value, not a list\n",
        "t_statistic, p_value = stats.ttest_1samp(\n",
        "    y_true, baseline_accuracy  # Pass y_true (or its mean) instead of [accuracy]\n",
        ")\n",
        "\n",
        "# 6. Print Results:\n",
        "print(f\"T-statistic: {t_statistic:.2f}\")\n",
        "print(f\"P-value: {p_value:.3f}\")\n",
        "\n",
        "# 7. Interpret Results:\n",
        "alpha = 0.05  # Significance level\n",
        "if p_value < alpha:\n",
        "    print(\"Reject null hypothesis: Model accuracy is significantly different from baseline.\")\n",
        "else:\n",
        "    print(\"Fail to reject null hypothesis: Model accuracy is not significantly different from baseline.\")"
      ],
      "cell_type": "code",
      "metadata": {
        "colab": {
          "base_uri": "https://localhost:8080/"
        },
        "id": "94Wwk5XrKtRL",
        "outputId": "c02950d2-06d8-4829-c40b-6899ad515f7d"
      },
      "execution_count": null,
      "outputs": [
        {
          "output_type": "stream",
          "name": "stdout",
          "text": [
            "T-statistic: 39.20\n",
            "P-value: 0.000\n",
            "Reject null hypothesis: Model accuracy is significantly different from baseline.\n"
          ]
        }
      ]
    }
  ]
}